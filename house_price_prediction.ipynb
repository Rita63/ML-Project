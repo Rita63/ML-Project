{
  "nbformat": 4,
  "nbformat_minor": 0,
  "metadata": {
    "colab": {
      "name": "house price prediction.ipynb",
      "provenance": [],
      "collapsed_sections": [],
      "mount_file_id": "14FSAuNonOf3Vmwmioq3QcIGYHprmCzUh",
      "authorship_tag": "ABX9TyNc6kbhDOdjKF2Y0wIeOSkl",
      "include_colab_link": true
    },
    "kernelspec": {
      "display_name": "Python 3",
      "name": "python3"
    },
    "language_info": {
      "name": "python"
    }
  },
  "cells": [
    {
      "cell_type": "markdown",
      "metadata": {
        "id": "view-in-github",
        "colab_type": "text"
      },
      "source": [
        "<a href=\"https://colab.research.google.com/github/Rita63/ML-Project/blob/main/house_price_prediction.ipynb\" target=\"_parent\"><img src=\"https://colab.research.google.com/assets/colab-badge.svg\" alt=\"Open In Colab\"/></a>"
      ]
    },
    {
      "cell_type": "code",
      "metadata": {
        "id": "zbViBq8FtpTW"
      },
      "source": [
        "import numpy as np\n",
        "import pandas as pd\n",
        "from sklearn.model_selection import train_test_split\n",
        "from sklearn.linear_model import LinearRegression\n",
        "import seaborn as sns\n",
        "pd.set_option(\"display.max_rows\", None, \"display.max_columns\", None)\n",
        "\n",
        "from IPython.core.interactiveshell import InteractiveShell\n",
        "InteractiveShell.ast_node_interactivity = \"all\"\n"
      ],
      "execution_count": 205,
      "outputs": []
    },
    {
      "cell_type": "code",
      "metadata": {
        "id": "0qmoRPP1tAtB"
      },
      "source": [
        "df=pd.read_csv(\"/content/drive/MyDrive/datasets/house-price-data.csv\")"
      ],
      "execution_count": 206,
      "outputs": []
    },
    {
      "cell_type": "code",
      "metadata": {
        "id": "dh9pSbKOgM3P"
      },
      "source": [
        "#df['SaleCondition'].value_counts()"
      ],
      "execution_count": 208,
      "outputs": []
    },
    {
      "cell_type": "code",
      "metadata": {
        "id": "shHCMdejgWSX"
      },
      "source": [
        "from sklearn.preprocessing import LabelEncoder"
      ],
      "execution_count": null,
      "outputs": []
    },
    {
      "cell_type": "code",
      "metadata": {
        "id": "S-4IrxRugY8a"
      },
      "source": [
        "label = LabelEncoder()\n",
        "x =label.fit_transform(df['SaleCondition']) \n",
        "x"
      ],
      "execution_count": null,
      "outputs": []
    },
    {
      "cell_type": "code",
      "metadata": {
        "id": "zq41UJg9gpvr"
      },
      "source": [
        "xy = pd.get_dummies(df['SaleCondition'])\n",
        "xy"
      ],
      "execution_count": null,
      "outputs": []
    },
    {
      "cell_type": "code",
      "metadata": {
        "id": "QHYpruiShH7X"
      },
      "source": [
        "df['SaleCondition'].value_counts()"
      ],
      "execution_count": null,
      "outputs": []
    },
    {
      "cell_type": "code",
      "metadata": {
        "id": "khvMA9yChL71"
      },
      "source": [
        "for i in x:\n",
        " print(i)"
      ],
      "execution_count": null,
      "outputs": []
    },
    {
      "cell_type": "code",
      "metadata": {
        "id": "tuJ1H_zShlMK"
      },
      "source": [
        "df.head()"
      ],
      "execution_count": null,
      "outputs": []
    },
    {
      "cell_type": "code",
      "metadata": {
        "id": "Wt5sbnU4h6Wt"
      },
      "source": [
        "df.shape"
      ],
      "execution_count": null,
      "outputs": []
    },
    {
      "cell_type": "code",
      "metadata": {
        "id": "gZgL_LdeiA6H"
      },
      "source": [
        "df['MSZoning'].value_counts()"
      ],
      "execution_count": null,
      "outputs": []
    },
    {
      "cell_type": "code",
      "metadata": {
        "id": "mY9wGTqjufFX"
      },
      "source": [
        "df.isnull().sum()"
      ],
      "execution_count": null,
      "outputs": []
    },
    {
      "cell_type": "code",
      "metadata": {
        "id": "uafaFiYdeeUW"
      },
      "source": [
        "#df.info"
      ],
      "execution_count": null,
      "outputs": []
    },
    {
      "cell_type": "code",
      "metadata": {
        "id": "QD4QDSX7iu81"
      },
      "source": [
        "#df.describe"
      ],
      "execution_count": null,
      "outputs": []
    },
    {
      "cell_type": "code",
      "metadata": {
        "id": "4fJxcRiJjzzp"
      },
      "source": [
        "sns.heatmap(df.isnull(),yticklabels=False,cbar=False,cmap='viridis')"
      ],
      "execution_count": null,
      "outputs": []
    },
    {
      "cell_type": "code",
      "metadata": {
        "id": "qVXroRIQj9vp"
      },
      "source": [
        "df['LotFrontage'].mean()\n"
      ],
      "execution_count": null,
      "outputs": []
    },
    {
      "cell_type": "code",
      "metadata": {
        "id": "8CUqsNgAkBBJ"
      },
      "source": [
        "df['LotFrontage'] = df['LotFrontage'].fillna(df['LotFrontage'].mean())"
      ],
      "execution_count": null,
      "outputs": []
    },
    {
      "cell_type": "code",
      "metadata": {
        "id": "CM7tq6eGkJET"
      },
      "source": [
        "df['LotFrontage']"
      ],
      "execution_count": null,
      "outputs": []
    },
    {
      "cell_type": "code",
      "metadata": {
        "id": "EGvggG7KkTL3"
      },
      "source": [
        "df.drop(['Alley'],axis=1,inplace=True)"
      ],
      "execution_count": null,
      "outputs": []
    },
    {
      "cell_type": "code",
      "metadata": {
        "id": "kLJGNQiekad8"
      },
      "source": [
        "df.head()"
      ],
      "execution_count": null,
      "outputs": []
    },
    {
      "cell_type": "code",
      "metadata": {
        "id": "Uvrpy3o8kiTD"
      },
      "source": [
        "df.shape"
      ],
      "execution_count": null,
      "outputs": []
    },
    {
      "cell_type": "code",
      "metadata": {
        "id": "UMqw4vV6k8fr"
      },
      "source": [
        "df['BsmtCond'].value_counts()"
      ],
      "execution_count": null,
      "outputs": []
    },
    {
      "cell_type": "code",
      "metadata": {
        "id": "5lz53u8tlCYB"
      },
      "source": [
        "df['BsmtCond'].mode()"
      ],
      "execution_count": null,
      "outputs": []
    },
    {
      "cell_type": "code",
      "metadata": {
        "id": "pAkesC_PlJmG"
      },
      "source": [
        "df['BsmtCond'] = df['BsmtCond'].fillna(df['BsmtCond'].mode()[0])"
      ],
      "execution_count": null,
      "outputs": []
    },
    {
      "cell_type": "code",
      "metadata": {
        "id": "os9oCHmHlNyc"
      },
      "source": [
        "df['BsmtCond']"
      ],
      "execution_count": null,
      "outputs": []
    },
    {
      "cell_type": "code",
      "metadata": {
        "id": "uMrKRUHmljgT"
      },
      "source": [
        "df['BsmtQual'] = df['BsmtQual'].fillna(df['BsmtQual'].mode()[0])"
      ],
      "execution_count": null,
      "outputs": []
    },
    {
      "cell_type": "code",
      "metadata": {
        "id": "Z_8RLHLulpEd"
      },
      "source": [
        "df['FireplaceQu'] = df['FireplaceQu'].fillna(df['FireplaceQu'].mode()[0])\n"
      ],
      "execution_count": null,
      "outputs": []
    },
    {
      "cell_type": "code",
      "metadata": {
        "id": "LuBChaTalwvO"
      },
      "source": [
        "df['GarageType'] = df['GarageType'].fillna(df['GarageType'].mode()[0])\n"
      ],
      "execution_count": null,
      "outputs": []
    },
    {
      "cell_type": "code",
      "metadata": {
        "id": "pDv5NCzxmfF1"
      },
      "source": [
        "df.drop(['GarageYrBlt'],axis=1,inplace=True)"
      ],
      "execution_count": null,
      "outputs": []
    },
    {
      "cell_type": "code",
      "metadata": {
        "id": "eqYb2u6ammck"
      },
      "source": [
        "df['GarageFinish'] = df['GarageFinish'].fillna(df['GarageFinish'].mode()[0])\n"
      ],
      "execution_count": null,
      "outputs": []
    },
    {
      "cell_type": "code",
      "metadata": {
        "id": "7Rdf77COmrqs"
      },
      "source": [
        "df['GarageQual'] = df['GarageQual'].fillna(df['GarageQual'].mode()[0])\n"
      ],
      "execution_count": null,
      "outputs": []
    },
    {
      "cell_type": "code",
      "metadata": {
        "id": "0nD7d2PNmte5"
      },
      "source": [
        "df['GarageCond'] = df['GarageCond'].fillna(df['GarageCond'].mode()[0])"
      ],
      "execution_count": null,
      "outputs": []
    },
    {
      "cell_type": "code",
      "metadata": {
        "id": "IKTALOjBm6kA"
      },
      "source": [
        "df.drop(['PoolQC','Fence','MiscFeature'],axis=1,inplace=True)"
      ],
      "execution_count": null,
      "outputs": []
    },
    {
      "cell_type": "code",
      "metadata": {
        "id": "EbaK8SeQnISX"
      },
      "source": [
        "df.drop(['Id'],axis=1,inplace=True)"
      ],
      "execution_count": null,
      "outputs": []
    },
    {
      "cell_type": "code",
      "metadata": {
        "id": "VDuzRuY3nRLK"
      },
      "source": [
        "df.shape"
      ],
      "execution_count": null,
      "outputs": []
    },
    {
      "cell_type": "code",
      "metadata": {
        "id": "Xl1GllUynWuW"
      },
      "source": [
        "df.columns"
      ],
      "execution_count": null,
      "outputs": []
    },
    {
      "cell_type": "code",
      "metadata": {
        "id": "HQcFZNHmnbNi"
      },
      "source": [
        "df.isnull().sum()"
      ],
      "execution_count": null,
      "outputs": []
    },
    {
      "cell_type": "code",
      "metadata": {
        "id": "JtqdJcFgn4_O"
      },
      "source": [
        "df['MasVnrType'] = df['MasVnrType'].fillna(df['MasVnrType'].mode()[0])"
      ],
      "execution_count": null,
      "outputs": []
    },
    {
      "cell_type": "code",
      "metadata": {
        "id": "MwVRO1Qwn68C"
      },
      "source": [
        "df['MasVnrArea'] = df['MasVnrArea'].fillna(df['MasVnrArea'].mode()[0])"
      ],
      "execution_count": null,
      "outputs": []
    },
    {
      "cell_type": "code",
      "metadata": {
        "id": "6qxr0W6dn_45"
      },
      "source": [
        "sns.heatmap(df.isnull(),yticklabels=False,cbar=False,cmap='viridis')"
      ],
      "execution_count": null,
      "outputs": []
    },
    {
      "cell_type": "code",
      "metadata": {
        "id": "DuU-iwA_oaSa"
      },
      "source": [
        "df['BsmtExposure'] = df['BsmtExposure'].fillna(df['BsmtExposure'].mode()[0])"
      ],
      "execution_count": null,
      "outputs": []
    },
    {
      "cell_type": "code",
      "metadata": {
        "id": "W7FuaW00odff"
      },
      "source": [
        "df['BsmtFinType1'] = df['BsmtFinType1'].fillna(df['BsmtFinType1'].mode()[0])\n"
      ],
      "execution_count": null,
      "outputs": []
    },
    {
      "cell_type": "code",
      "metadata": {
        "id": "9DG-d1s1ooWD"
      },
      "source": [
        "sns.heatmap(df.isnull(),yticklabels=False,cbar=False,cmap='viridis')\n"
      ],
      "execution_count": null,
      "outputs": []
    },
    {
      "cell_type": "code",
      "metadata": {
        "id": "Vj4gm5ACoudP"
      },
      "source": [
        "df.dropna(inplace=True)"
      ],
      "execution_count": null,
      "outputs": []
    },
    {
      "cell_type": "code",
      "metadata": {
        "id": "xyPuQPOHoz4M"
      },
      "source": [
        "sns.heatmap(df.isnull(),yticklabels=False,cbar=False,cmap='viridis')\n"
      ],
      "execution_count": null,
      "outputs": []
    },
    {
      "cell_type": "code",
      "metadata": {
        "id": "bg9BjpLLo6Cs"
      },
      "source": [
        "df.shape"
      ],
      "execution_count": null,
      "outputs": []
    },
    {
      "cell_type": "code",
      "metadata": {
        "id": "D-Gs1WwvpGu2"
      },
      "source": [
        "df.isnull().sum()"
      ],
      "execution_count": null,
      "outputs": []
    },
    {
      "cell_type": "code",
      "metadata": {
        "id": "Us_yorn8pSbn"
      },
      "source": [
        "len(df.columns)"
      ],
      "execution_count": null,
      "outputs": []
    },
    {
      "cell_type": "code",
      "metadata": {
        "id": "hvciU5_Xqa0H"
      },
      "source": [
        "numeric = list(df.dtypes[df.dtypes!='object'].index)"
      ],
      "execution_count": null,
      "outputs": []
    },
    {
      "cell_type": "code",
      "metadata": {
        "id": "aBlT3r-dq2XY"
      },
      "source": [
        "numeric"
      ],
      "execution_count": null,
      "outputs": []
    },
    {
      "cell_type": "code",
      "metadata": {
        "id": "vwDoAXSOrmDK"
      },
      "source": [
        "len(numeric)\n"
      ],
      "execution_count": null,
      "outputs": []
    },
    {
      "cell_type": "code",
      "metadata": {
        "id": "XmmWafyarw5S"
      },
      "source": [
        "df1 = df"
      ],
      "execution_count": null,
      "outputs": []
    },
    {
      "cell_type": "code",
      "metadata": {
        "id": "wBnHenSGr49Y"
      },
      "source": [
        "train = df[numeric]"
      ],
      "execution_count": null,
      "outputs": []
    },
    {
      "cell_type": "code",
      "metadata": {
        "id": "vUilCfQ2r8j2"
      },
      "source": [
        "train.head()"
      ],
      "execution_count": null,
      "outputs": []
    },
    {
      "cell_type": "code",
      "metadata": {
        "id": "TtMMeeltsKBy"
      },
      "source": [
        "type(train)"
      ],
      "execution_count": null,
      "outputs": []
    },
    {
      "cell_type": "code",
      "metadata": {
        "id": "bXi-R4uCsQtQ"
      },
      "source": [
        "train.shape"
      ],
      "execution_count": null,
      "outputs": []
    },
    {
      "cell_type": "code",
      "metadata": {
        "id": "AMShaytBsXZS"
      },
      "source": [
        "train.isnull().sum()"
      ],
      "execution_count": null,
      "outputs": []
    },
    {
      "cell_type": "code",
      "metadata": {
        "id": "UIPVf420sp8q"
      },
      "source": [
        "price = train.iloc[:,35:36] #OUTPUT\n",
        "price.head(2)"
      ],
      "execution_count": null,
      "outputs": []
    },
    {
      "cell_type": "code",
      "metadata": {
        "id": "BQ7Qm-bss394"
      },
      "source": [
        "train = train.iloc[:,:-1] #INPUT\n",
        "train.head(2)"
      ],
      "execution_count": null,
      "outputs": []
    },
    {
      "cell_type": "code",
      "metadata": {
        "id": "u9Du0OcttUFb"
      },
      "source": [
        "xtrain,xtest,ytrain,ytest = train_test_split(train,\n",
        " price,\n",
        "test_size=0.2,\n",
        "random_state=40)"
      ],
      "execution_count": null,
      "outputs": []
    },
    {
      "cell_type": "code",
      "metadata": {
        "id": "asFoJBx2tnXQ"
      },
      "source": [
        "print(len(xtrain), len(ytrain),len(xtest),len(ytest))"
      ],
      "execution_count": null,
      "outputs": []
    },
    {
      "cell_type": "code",
      "metadata": {
        "id": "na-y9m0juZLc"
      },
      "source": [
        "xtrain.head()"
      ],
      "execution_count": null,
      "outputs": []
    },
    {
      "cell_type": "code",
      "metadata": {
        "id": "3EhAX_Ibu3CB"
      },
      "source": [
        "xtest.head()"
      ],
      "execution_count": null,
      "outputs": []
    },
    {
      "cell_type": "code",
      "metadata": {
        "id": "577YeBGNyxFy"
      },
      "source": [
        "ytest.head()"
      ],
      "execution_count": null,
      "outputs": []
    },
    {
      "cell_type": "code",
      "metadata": {
        "id": "QCHCW3xAvAMv"
      },
      "source": [
        "ytrain.head()"
      ],
      "execution_count": null,
      "outputs": []
    },
    {
      "cell_type": "markdown",
      "metadata": {
        "id": "K6nMlhSOy-u7"
      },
      "source": [
        "**STEP 3**"
      ]
    },
    {
      "cell_type": "code",
      "metadata": {
        "id": "IUnqbt-IuvRd"
      },
      "source": [
        "# PREPROCESSING #################"
      ],
      "execution_count": null,
      "outputs": []
    },
    {
      "cell_type": "code",
      "metadata": {
        "id": "jcfrpyVMziep"
      },
      "source": [
        "from sklearn.preprocessing import StandardScaler"
      ],
      "execution_count": null,
      "outputs": []
    },
    {
      "cell_type": "code",
      "metadata": {
        "id": "RKrBNwfIzxUX"
      },
      "source": [
        "scaler = StandardScaler()"
      ],
      "execution_count": null,
      "outputs": []
    },
    {
      "cell_type": "code",
      "metadata": {
        "id": "HkQaVXg6z-v0"
      },
      "source": [
        "###INPUT DATA TRANSFORMATION"
      ],
      "execution_count": null,
      "outputs": []
    },
    {
      "cell_type": "code",
      "metadata": {
        "id": "BCzaMMPX0Clx"
      },
      "source": [
        "xtrain_scaled = scaler.fit_transform(xtrain)"
      ],
      "execution_count": null,
      "outputs": []
    },
    {
      "cell_type": "code",
      "metadata": {
        "id": "Sxbw7jg10dwm"
      },
      "source": [
        ""
      ],
      "execution_count": null,
      "outputs": []
    },
    {
      "cell_type": "code",
      "metadata": {
        "id": "MngyR-170f4S"
      },
      "source": [
        "xtrain_scaled"
      ],
      "execution_count": null,
      "outputs": []
    },
    {
      "cell_type": "code",
      "metadata": {
        "id": "0gkNsNB40w5D"
      },
      "source": [
        "xtest_scaled = scaler.transform(xtest)"
      ],
      "execution_count": null,
      "outputs": []
    },
    {
      "cell_type": "code",
      "metadata": {
        "id": "b9lYGCj301CG"
      },
      "source": [
        "xtest_scaled"
      ],
      "execution_count": null,
      "outputs": []
    },
    {
      "cell_type": "code",
      "metadata": {
        "id": "uM2dSoth1A5J"
      },
      "source": [
        "### FIT TRANSFORM - Training Data\n",
        "### TRANSFORM - Testing Data"
      ],
      "execution_count": null,
      "outputs": []
    },
    {
      "cell_type": "code",
      "metadata": {
        "id": "9BeXNXV41L6R"
      },
      "source": [
        "regressor = LinearRegression()"
      ],
      "execution_count": null,
      "outputs": []
    },
    {
      "cell_type": "code",
      "metadata": {
        "id": "MyYTvAcc1OQ3"
      },
      "source": [
        "regressor.fit(xtrain_scaled,ytrain)"
      ],
      "execution_count": null,
      "outputs": []
    },
    {
      "cell_type": "code",
      "metadata": {
        "id": "r22kN5xk1cmD"
      },
      "source": [
        "regressor.score(xtrain_scaled,ytrain)"
      ],
      "execution_count": null,
      "outputs": []
    },
    {
      "cell_type": "code",
      "metadata": {
        "id": "imRt9lh31j2A"
      },
      "source": [
        "regressor.score(xtest_scaled,ytest)"
      ],
      "execution_count": null,
      "outputs": []
    },
    {
      "cell_type": "code",
      "metadata": {
        "id": "e0ieIZXa1lz8"
      },
      "source": [
        "reg = regressor.predict(xtest_scaled)"
      ],
      "execution_count": null,
      "outputs": []
    },
    {
      "cell_type": "code",
      "metadata": {
        "id": "-NJ3D3XZ2Zfb"
      },
      "source": [
        "reg"
      ],
      "execution_count": null,
      "outputs": []
    },
    {
      "cell_type": "code",
      "metadata": {
        "id": "t0O7AD71T4ry"
      },
      "source": [
        "ytest_li = []\n",
        "for i in ytest.SalePrice:\n",
        " ytest_li.append(i)"
      ],
      "execution_count": null,
      "outputs": []
    },
    {
      "cell_type": "code",
      "metadata": {
        "id": "yukXSnzobVb8"
      },
      "source": [
        "for i in range(len(reg)):\n",
        " print(reg[i] , ytest_li[i])"
      ],
      "execution_count": null,
      "outputs": []
    },
    {
      "cell_type": "code",
      "metadata": {
        "id": "46kTvy0LbpW8"
      },
      "source": [
        "from sklearn.metrics import mean_squared_error\n",
        "from sklearn.metrics import mean_absolute_error"
      ],
      "execution_count": null,
      "outputs": []
    },
    {
      "cell_type": "code",
      "metadata": {
        "id": "idwBWVv1cEs_"
      },
      "source": [
        "ytest_scaled = scaler.fit_transform(ytest)"
      ],
      "execution_count": null,
      "outputs": []
    },
    {
      "cell_type": "code",
      "metadata": {
        "id": "VztS59zaceXi"
      },
      "source": [
        "reg_scaled = scaler.transform(reg)"
      ],
      "execution_count": null,
      "outputs": []
    },
    {
      "cell_type": "code",
      "metadata": {
        "id": "HYRsE8UQcqb-"
      },
      "source": [
        "reg_scaled"
      ],
      "execution_count": null,
      "outputs": []
    },
    {
      "cell_type": "code",
      "metadata": {
        "id": "Vj61CkWrcwY0"
      },
      "source": [
        "#mean_squared_error(ytest,reg) #mean_squared_error"
      ],
      "execution_count": null,
      "outputs": []
    },
    {
      "cell_type": "code",
      "metadata": {
        "id": "vbwMe7nec01P"
      },
      "source": [
        "mean_squared_error(ytest_scaled,reg_scaled) #mean_squared_error"
      ],
      "execution_count": null,
      "outputs": []
    },
    {
      "cell_type": "code",
      "metadata": {
        "id": "SKivS6a1da15"
      },
      "source": [
        "mean_squared_error(ytest_scaled,reg_scaled, squared=False) #root_mean_squared_error"
      ],
      "execution_count": null,
      "outputs": []
    },
    {
      "cell_type": "code",
      "metadata": {
        "id": "KKPrx0Njd0Yn"
      },
      "source": [
        "mean_absolute_error(ytest_scaled,reg_scaled) #mean_absolute_error"
      ],
      "execution_count": null,
      "outputs": []
    },
    {
      "cell_type": "code",
      "metadata": {
        "id": "9mOwTP0Ie9iQ"
      },
      "source": [
        "from sklearn.ensemble import RandomForestRegressor"
      ],
      "execution_count": null,
      "outputs": []
    },
    {
      "cell_type": "code",
      "metadata": {
        "id": "wfuW6P57fPci"
      },
      "source": [
        "regr =RandomForestRegressor()"
      ],
      "execution_count": null,
      "outputs": []
    },
    {
      "cell_type": "code",
      "metadata": {
        "id": "UTaw-B6nfTK8"
      },
      "source": [
        "regr.fit(xtrain_scaled,ytrain)"
      ],
      "execution_count": null,
      "outputs": []
    },
    {
      "cell_type": "code",
      "metadata": {
        "id": "ClMs1fD1fbgu"
      },
      "source": [
        "regr.score(xtrain_scaled,ytrain)"
      ],
      "execution_count": null,
      "outputs": []
    },
    {
      "cell_type": "code",
      "metadata": {
        "id": "isT03Qsxfe6D"
      },
      "source": [
        "regr.score(xtest_scaled,ytest)"
      ],
      "execution_count": null,
      "outputs": []
    },
    {
      "cell_type": "code",
      "metadata": {
        "id": "T6Xi99gyfjoI"
      },
      "source": [
        "predicted_value = regr.predict(xtest_scaled)"
      ],
      "execution_count": null,
      "outputs": []
    },
    {
      "cell_type": "code",
      "metadata": {
        "id": "WVcTXpAGfp17"
      },
      "source": [
        "predicted_value.shape"
      ],
      "execution_count": null,
      "outputs": []
    },
    {
      "cell_type": "code",
      "metadata": {
        "id": "PGFSiKVxf9Pf"
      },
      "source": [
        "#predicted_value"
      ],
      "execution_count": null,
      "outputs": []
    },
    {
      "cell_type": "code",
      "metadata": {
        "id": "24x4sertgdOb"
      },
      "source": [
        "ytest_li = []\n",
        "for i in ytest.SalePrice:\n",
        " ytest_li.append(i)\n"
      ],
      "execution_count": null,
      "outputs": []
    },
    {
      "cell_type": "code",
      "metadata": {
        "id": "EG3c7wxUghy0"
      },
      "source": [
        "for i in range(len(predicted_value)):\n",
        " #print(predicted_value[i] , ytest_li[i])\n",
        " pass"
      ],
      "execution_count": null,
      "outputs": []
    },
    {
      "cell_type": "code",
      "metadata": {
        "id": "1gjCfFaxg1NG"
      },
      "source": [
        "ytest_scaled2 = scaler.fit_transform(ytest)"
      ],
      "execution_count": null,
      "outputs": []
    },
    {
      "cell_type": "code",
      "metadata": {
        "id": "qVwOSv5Gg5gb"
      },
      "source": [
        "reg_scaled2 = scaler.transform(predicted_value.reshape(-1,1))"
      ],
      "execution_count": null,
      "outputs": []
    },
    {
      "cell_type": "code",
      "metadata": {
        "id": "lLK0_PO_g-8Z"
      },
      "source": [
        "#reg_scaled2"
      ],
      "execution_count": null,
      "outputs": []
    },
    {
      "cell_type": "code",
      "metadata": {
        "id": "l6KEYDzBhEDD"
      },
      "source": [
        "#reg_scaled2 = scaler.transform(reg_scaled2)"
      ],
      "execution_count": null,
      "outputs": []
    },
    {
      "cell_type": "code",
      "metadata": {
        "id": "cttAj5TMkHdN"
      },
      "source": [
        "mean_squared_error(ytest_scaled2,reg_scaled2)\n"
      ],
      "execution_count": null,
      "outputs": []
    },
    {
      "cell_type": "code",
      "metadata": {
        "id": "3MwFMRmgjs46"
      },
      "source": [
        "mean_squared_error(ytest_scaled2,reg_scaled2, squared = False) #RMSE"
      ],
      "execution_count": null,
      "outputs": []
    },
    {
      "cell_type": "code",
      "metadata": {
        "id": "T3ZxxI5YkPZu"
      },
      "source": [
        "mean_absolute_error(ytest_scaled2,reg_scaled2)"
      ],
      "execution_count": null,
      "outputs": []
    },
    {
      "cell_type": "code",
      "metadata": {
        "id": "qwgNz1i9kVa_"
      },
      "source": [
        "#predicted_value.to_list()"
      ],
      "execution_count": null,
      "outputs": []
    },
    {
      "cell_type": "code",
      "metadata": {
        "id": "62QFECcaq7Mz"
      },
      "source": [
        "#result.ravel()"
      ],
      "execution_count": null,
      "outputs": []
    },
    {
      "cell_type": "code",
      "metadata": {
        "id": "OTKuCxAnrU9K"
      },
      "source": [
        "result = pd.DataFrame({\"Actual price\":ytest_li,\"Predicted price\":predicted_value})"
      ],
      "execution_count": null,
      "outputs": []
    },
    {
      "cell_type": "code",
      "metadata": {
        "id": "EnZGelXIsA8F"
      },
      "source": [
        "result"
      ],
      "execution_count": null,
      "outputs": []
    },
    {
      "cell_type": "code",
      "metadata": {
        "id": "At1_QcdOsTao"
      },
      "source": [
        "#result"
      ],
      "execution_count": null,
      "outputs": []
    },
    {
      "cell_type": "code",
      "metadata": {
        "id": "orgJj2nmsXWT"
      },
      "source": [
        "result.to_csv(\"/content/drive/MyDrive/datasets/house-price-data.csv\",index=True) #to save result in csv file"
      ],
      "execution_count": null,
      "outputs": []
    },
    {
      "cell_type": "code",
      "metadata": {
        "id": "UXvwxsWss-pu"
      },
      "source": [
        "x ={result}\n",
        "\n"
      ],
      "execution_count": null,
      "outputs": []
    }
  ]
}